{
 "cells": [
  {
   "cell_type": "code",
   "execution_count": 1,
   "metadata": {},
   "outputs": [],
   "source": [
    "import networkx as nx\n",
    "\n",
    "G = nx.DiGraph()\n",
    "G.add_weighted_edges_from([\n",
    "    ('s', 'u', 10),\n",
    "    ('s', 'x', 5),\n",
    "    ('u', 'v', 1),\n",
    "    ('u', 'x', 2),\n",
    "    ('v', 'y', 1),\n",
    "    ('x', 'u', 3),\n",
    "    ('x', 'v', 5),\n",
    "    ('x', 'y', 2),\n",
    "    ('y', 's', 7),\n",
    "    ('y', 'v', 6)\n",
    "])"
   ]
  },
  {
   "cell_type": "code",
   "execution_count": 2,
   "metadata": {},
   "outputs": [],
   "source": [
    "def floyd_warshall(G, weight='weight'):\n",
    "    \"\"\"Find all-pairs shortest path lengths using Floyd's algorithm.\n",
    "\n",
    "    Parameters\n",
    "    ----------\n",
    "    G : NetworkX graph\n",
    "\n",
    "    weight: string, optional (default= 'weight')\n",
    "       Edge data key corresponding to the edge weight.\n",
    "\n",
    "    Returns\n",
    "    -------\n",
    "    predecessor,distance : dictionaries\n",
    "       Dictionaries, keyed by source and target, of predecessors and distances\n",
    "       in the shortest path.\n",
    "\n",
    "    Notes\n",
    "    ------\n",
    "    Floyd's algorithm is appropriate for finding shortest paths\n",
    "    in dense graphs or graphs with negative weights when Dijkstra's algorithm\n",
    "    fails.  This algorithm can still fail if there are negative cycles.\n",
    "    It has running time $O(n^3)$ with running space of $O(n^2)$.\n",
    "    \"\"\"\n",
    "    from collections import defaultdict\n",
    "    # dictionary-of-dictionaries representation for dist and pred\n",
    "    # use some defaultdict magick here\n",
    "    # for dist the default is the floating point inf value\n",
    "    dist = defaultdict(lambda: defaultdict(lambda: float('inf')))\n",
    "    for u in G:\n",
    "        dist[u][u] = 0\n",
    "    pred = defaultdict(dict)\n",
    "    # initialize path distance dictionary to be the adjacency matrix\n",
    "    # also set the distance to self to 0 (zero diagonal)\n",
    "    undirected = not G.is_directed()\n",
    "    for u, v, d in G.edges(data=True):\n",
    "        e_weight = d.get(weight, 1.0)\n",
    "        dist[u][v] = min(e_weight, dist[u][v])\n",
    "        pred[u][v] = u\n",
    "        if undirected:\n",
    "            dist[v][u] = min(e_weight, dist[v][u])\n",
    "            pred[v][u] = v\n",
    "    for w in G:\n",
    "        for u in G:\n",
    "            for v in G:\n",
    "                if dist[u][v] > dist[u][w] + dist[w][v]:\n",
    "                    dist[u][v] = dist[u][w] + dist[w][v]\n",
    "                    pred[u][v] = pred[w][v]\n",
    "    return dict(pred), dict(dist)"
   ]
  },
  {
   "cell_type": "code",
   "execution_count": 3,
   "metadata": {},
   "outputs": [],
   "source": [
    "def reconstruct_path(source, target, predecessors):\n",
    "    \"\"\"Reconstruct a path from source to target using the predecessors\n",
    "    dict as returned by floyd_warshall_predecessor_and_distance\n",
    "\n",
    "    Parameters\n",
    "    ----------\n",
    "    source : node\n",
    "       Starting node for path\n",
    "\n",
    "    target : node\n",
    "       Ending node for path\n",
    "\n",
    "    predecessors: dictionary\n",
    "       Dictionary, keyed by source and target, of predecessors in the\n",
    "       shortest path, as returned by floyd_warshall_predecessor_and_distance\n",
    "\n",
    "    Returns\n",
    "    -------\n",
    "    path : list\n",
    "       A list of nodes containing the shortest path from source to target\n",
    "\n",
    "       If source and target are the same, an empty list is returned\n",
    "    \"\"\"\n",
    "    if source == target:\n",
    "        return []\n",
    "    prev = predecessors[source]\n",
    "    curr = prev[target]\n",
    "    path = [target, curr]\n",
    "    while curr != source:\n",
    "        curr = prev[curr]\n",
    "        path.append(curr)\n",
    "    return list(reversed(path))"
   ]
  },
  {
   "cell_type": "code",
   "execution_count": 4,
   "metadata": {},
   "outputs": [],
   "source": [
    "predecessors, _ = floyd_warshall(G)"
   ]
  },
  {
   "cell_type": "code",
   "execution_count": 5,
   "metadata": {},
   "outputs": [
    {
     "name": "stdout",
     "output_type": "stream",
     "text": [
      "['s', 'x', 'u', 'v']\n"
     ]
    }
   ],
   "source": [
    "print(reconstruct_path('s', 'v', predecessors))"
   ]
  }
 ],
 "metadata": {
  "kernelspec": {
   "display_name": "Python 3",
   "language": "python",
   "name": "python3"
  },
  "language_info": {
   "codemirror_mode": {
    "name": "ipython",
    "version": 3
   },
   "file_extension": ".py",
   "mimetype": "text/x-python",
   "name": "python",
   "nbconvert_exporter": "python",
   "pygments_lexer": "ipython3",
   "version": "3.6.5"
  }
 },
 "nbformat": 4,
 "nbformat_minor": 2
}
