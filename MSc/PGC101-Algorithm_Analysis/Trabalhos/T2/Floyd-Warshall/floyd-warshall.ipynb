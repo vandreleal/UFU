{
 "cells": [
  {
   "cell_type": "code",
   "execution_count": 1,
   "metadata": {},
   "outputs": [],
   "source": [
    "from collections import defaultdict\n",
    "import matplotlib.pyplot as plt\n",
    "import networkx as nx\n",
    "import numpy as np"
   ]
  },
  {
   "cell_type": "code",
   "execution_count": 2,
   "metadata": {},
   "outputs": [],
   "source": [
    "G = nx.DiGraph()\n",
    "G.add_weighted_edges_from([\n",
    "    ('A', 'B', 4),\n",
    "    ('A', 'C', 5),\n",
    "    ('B', 'C', 3),\n",
    "    ('B', 'D', 2),\n",
    "    ('C', 'D', 2)\n",
    "])"
   ]
  },
  {
   "cell_type": "code",
   "execution_count": 3,
   "metadata": {},
   "outputs": [
    {
     "data": {
      "image/png": "[encoded data removed]",
      "text/plain": [
       "<Figure size 432x288 with 1 Axes>"
      ]
     },
     "metadata": {},
     "output_type": "display_data"
    }
   ],
   "source": [
    "nx.draw(G, with_labels=True, node_size=1500, node_color='y', alpha=1, arrows=True)"
   ]
  },
  {
   "cell_type": "code",
   "execution_count": 4,
   "metadata": {},
   "outputs": [],
   "source": [
    "def floyd_warshall(G, weight='weight'):\n",
    "    dist = defaultdict(lambda: defaultdict(lambda: float('inf')))\n",
    "    \n",
    "    for v in G:\n",
    "        dist[v][v] = 0\n",
    "        \n",
    "    pred = defaultdict(dict)\n",
    "    \n",
    "    undirected = not G.is_directed()\n",
    "    \n",
    "    for s, t, d in G.edges(data=True):\n",
    "        e_weight = d.get(weight, 1.0)\n",
    "        dist[s][t] = min(e_weight, dist[s][t])\n",
    "        pred[s][t] = s\n",
    "        if undirected:\n",
    "            dist[t][s] = min(e_weight, dist[t][s])\n",
    "            pred[t][s] = t\n",
    "            \n",
    "    for w in G:\n",
    "        for s in G:\n",
    "            for t in G:\n",
    "                if dist[s][t] > dist[s][w] + dist[w][t]:\n",
    "                    dist[s][t] = dist[s][w] + dist[w][t]\n",
    "                    pred[s][t] = pred[w][t]\n",
    "                    \n",
    "    return dict(pred), dict(dist)\n",
    "\n",
    "\n",
    "def reconstruct_path(source, target, predecessors):\n",
    "    if source == target:\n",
    "        return []\n",
    "    \n",
    "    prev = predecessors[source]\n",
    "    curr = prev[target]\n",
    "    path = [target, curr]\n",
    "    \n",
    "    while curr != source:\n",
    "        curr = prev[curr]\n",
    "        path.append(curr)\n",
    "        \n",
    "    return list(reversed(path))\n",
    "\n",
    "\n",
    "def print_distances(distances):\n",
    "    for key, value in distances.items():\n",
    "        print(key, dict(value));"
   ]
  },
  {
   "cell_type": "code",
   "execution_count": 5,
   "metadata": {
    "scrolled": false
   },
   "outputs": [
    {
     "name": "stdout",
     "output_type": "stream",
     "text": [
      "\n",
      "Predecessors\n",
      " {'A': {'B': 'A', 'C': 'A', 'D': 'B'}, 'B': {'C': 'B', 'D': 'B'}, 'C': {'D': 'C'}}\n",
      "\n",
      "Distances\n",
      "A {'A': 0, 'B': 4, 'C': 5, 'D': 6}\n",
      "B {'B': 0, 'C': 3, 'D': 2, 'A': inf}\n",
      "C {'C': 0, 'D': 2, 'A': inf, 'B': inf}\n",
      "D {'D': 0, 'A': inf, 'B': inf, 'C': inf}\n",
      "\n",
      "Path\n",
      " ['A', 'B', 'D']\n"
     ]
    }
   ],
   "source": [
    "predecessors, distances = floyd_warshall(G)\n",
    "\n",
    "print(\"\\nPredecessors\\n\", predecessors)\n",
    "\n",
    "print(\"\\nDistances\")\n",
    "print_distances(distances)\n",
    "    \n",
    "path = reconstruct_path('A', 'D', predecessors)\n",
    "print(\"\\nPath\\n\", path)"
   ]
  }
 ],
 "metadata": {
  "kernelspec": {
   "display_name": "Python 3",
   "language": "python",
   "name": "python3"
  },
  "language_info": {
   "codemirror_mode": {
    "name": "ipython",
    "version": 3
   },
   "file_extension": ".py",
   "mimetype": "text/x-python",
   "name": "python",
   "nbconvert_exporter": "python",
   "pygments_lexer": "ipython3",
   "version": "3.6.5"
  }
 },
 "nbformat": 4,
 "nbformat_minor": 2
}
