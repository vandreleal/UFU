{
 "cells": [
  {
   "cell_type": "code",
   "execution_count": 1,
   "metadata": {},
   "outputs": [],
   "source": [
    "from collections import defaultdict\n",
    "import matplotlib.pyplot as plt\n",
    "import networkx as nx\n",
    "import numpy as np\n",
    "import operator"
   ]
  },
  {
   "cell_type": "code",
   "execution_count": 2,
   "metadata": {},
   "outputs": [],
   "source": [
    "G = nx.DiGraph()\n",
    "G.add_weighted_edges_from([\n",
    "    ('2', '1', 4),\n",
    "    ('1', '3', -2),\n",
    "    ('2', '3', 3),\n",
    "    ('4', '2', -1),\n",
    "    ('3', '4', 2)\n",
    "])"
   ]
  },
  {
   "cell_type": "code",
   "execution_count": 3,
   "metadata": {},
   "outputs": [
    {
     "data": {
      "image/png": "[encoded data removed]",
      "text/plain": [
       "<Figure size 432x288 with 1 Axes>"
      ]
     },
     "metadata": {},
     "output_type": "display_data"
    }
   ],
   "source": [
    "nx.draw_circular(G, with_labels=True, node_size=1500, node_color='y', alpha=1, arrows=True)"
   ]
  },
  {
   "cell_type": "code",
   "execution_count": 4,
   "metadata": {},
   "outputs": [],
   "source": [
    "def print_distances(distances):\n",
    "    for key, value in sorted(distances.items(), key=operator.itemgetter(0)):\n",
    "        print(key, dict(value));\n",
    "        \n",
    "def floyd_warshall(G, weight='weight'):\n",
    "    dist = defaultdict(lambda: defaultdict(lambda: float('inf')))\n",
    "    pred = defaultdict(dict)\n",
    "    \n",
    "    undirected = not G.is_directed()\n",
    "    \n",
    "    for v in G:\n",
    "        dist[v][v] = 0\n",
    "    \n",
    "    for i, j, d in G.edges(data=True):\n",
    "        w = d.get(weight)\n",
    "        dist[i][j] = w\n",
    "        pred[i][j] = i\n",
    "        if undirected:\n",
    "            dist[j][i] = w\n",
    "            pred[j][i] = j\n",
    "            \n",
    "    for k in G:\n",
    "        for i in G:\n",
    "            for j in G:\n",
    "                if dist[i][j] > dist[i][k] + dist[k][j]:\n",
    "                    dist[i][j] = dist[i][k] + dist[k][j]\n",
    "                    pred[i][j] = pred[k][j]\n",
    "                    \n",
    "    return dict(pred), dict(dist)\n",
    "\n",
    "\n",
    "def reconstruct_path(source, target, predecessors):\n",
    "    if source == target:\n",
    "        return []\n",
    "    \n",
    "    prev = predecessors[source]\n",
    "    curr = prev[target]\n",
    "    path = [target, curr]\n",
    "    \n",
    "    while curr != source:\n",
    "        curr = prev[curr]\n",
    "        path.append(curr)\n",
    "        \n",
    "    return list(reversed(path))"
   ]
  },
  {
   "cell_type": "code",
   "execution_count": 5,
   "metadata": {
    "scrolled": true
   },
   "outputs": [
    {
     "name": "stdout",
     "output_type": "stream",
     "text": [
      "\n",
      "Predecessors\n",
      " {'2': {'1': '2', '3': '1', '4': '3'}, '1': {'3': '1', '4': '3', '2': '4'}, '3': {'4': '3', '2': '4', '1': '2'}, '4': {'2': '4', '1': '2', '3': '1'}}\n",
      "\n",
      "Distances\n",
      "1 {'1': 0, '3': -2, '2': -1, '4': 0}\n",
      "2 {'2': 0, '1': 4, '3': 2, '4': 4}\n",
      "3 {'3': 0, '4': 2, '2': 1, '1': 5}\n",
      "4 {'4': 0, '2': -1, '1': 3, '3': 1}\n",
      "\n",
      "Path\n",
      " ['1', '3', '4']\n"
     ]
    }
   ],
   "source": [
    "predecessors, distances = floyd_warshall(G)\n",
    "\n",
    "print(\"\\nPredecessors\\n\", predecessors)\n",
    "\n",
    "print(\"\\nDistances\")\n",
    "print_distances(distances)\n",
    "    \n",
    "path = reconstruct_path('1', '4', predecessors)\n",
    "print(\"\\nPath\\n\", path)"
   ]
  }
 ],
 "metadata": {
  "kernelspec": {
   "display_name": "Python 3",
   "language": "python",
   "name": "python3"
  },
  "language_info": {
   "codemirror_mode": {
    "name": "ipython",
    "version": 3
   },
   "file_extension": ".py",
   "mimetype": "text/x-python",
   "name": "python",
   "nbconvert_exporter": "python",
   "pygments_lexer": "ipython3",
   "version": "3.6.5"
  }
 },
 "nbformat": 4,
 "nbformat_minor": 2
}
