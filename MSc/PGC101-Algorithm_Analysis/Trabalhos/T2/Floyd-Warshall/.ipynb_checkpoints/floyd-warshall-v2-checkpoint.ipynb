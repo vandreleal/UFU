{
 "cells": [
  {
   "cell_type": "code",
   "execution_count": 11,
   "metadata": {},
   "outputs": [],
   "source": [
    "from math import inf\n",
    "from itertools import product\n",
    " \n",
    "def floyd_warshall(n, edge):\n",
    "    rn = range(n)\n",
    "    dist = [[inf] * n for i in rn]\n",
    "    nxt  = [[0]   * n for i in rn]\n",
    "    \n",
    "    print(rn, dist, nxt)\n",
    "    \n",
    "    for i in rn:\n",
    "        dist[i][i] = 0\n",
    "    for u, v, w in edge:\n",
    "        dist[u-1][v-1] = w\n",
    "        nxt[u-1][v-1] = v-1\n",
    "    for k, i, j in product(rn, repeat=3):\n",
    "        sum_ik_kj = dist[i][k] + dist[k][j]\n",
    "        if dist[i][j] > sum_ik_kj:\n",
    "            dist[i][j] = sum_ik_kj\n",
    "            nxt[i][j]  = nxt[i][k]\n",
    "    print(\"pair     dist    path\")\n",
    "    for i, j in product(rn, repeat=2):\n",
    "        if i != j:\n",
    "            path = [i]\n",
    "            while path[-1] != j:\n",
    "                path.append(nxt[path[-1]][j])\n",
    "            print(\"%d → %d  %4d       %s\" \n",
    "                  % (i + 1, j + 1, dist[i][j], \n",
    "                     ' → '.join(str(p + 1) for p in path)))"
   ]
  },
  {
   "cell_type": "code",
   "execution_count": 12,
   "metadata": {},
   "outputs": [
    {
     "name": "stdout",
     "output_type": "stream",
     "text": [
      "range(0, 4) [[inf, inf, inf, inf], [inf, inf, inf, inf], [inf, inf, inf, inf], [inf, inf, inf, inf]] [[0, 0, 0, 0], [0, 0, 0, 0], [0, 0, 0, 0], [0, 0, 0, 0]]\n",
      "pair     dist    path\n",
      "1 → 2    -1       1 → 3 → 4 → 2\n",
      "1 → 3    -2       1 → 3\n",
      "1 → 4     0       1 → 3 → 4\n",
      "2 → 1     4       2 → 1\n",
      "2 → 3     2       2 → 1 → 3\n",
      "2 → 4     4       2 → 1 → 3 → 4\n",
      "3 → 1     5       3 → 4 → 2 → 1\n",
      "3 → 2     1       3 → 4 → 2\n",
      "3 → 4     2       3 → 4\n",
      "4 → 1     3       4 → 2 → 1\n",
      "4 → 2    -1       4 → 2\n",
      "4 → 3     1       4 → 2 → 1 → 3\n"
     ]
    }
   ],
   "source": [
    "floyd_warshall(4, [[1, 3, -2], [2, 1, 4], [2, 3, 3], [3, 4, 2], [4, 2, -1]])"
   ]
  },
  {
   "cell_type": "code",
   "execution_count": null,
   "metadata": {},
   "outputs": [],
   "source": []
  }
 ],
 "metadata": {
  "kernelspec": {
   "display_name": "Python 3",
   "language": "python",
   "name": "python3"
  },
  "language_info": {
   "codemirror_mode": {
    "name": "ipython",
    "version": 3
   },
   "file_extension": ".py",
   "mimetype": "text/x-python",
   "name": "python",
   "nbconvert_exporter": "python",
   "pygments_lexer": "ipython3",
   "version": "3.6.5"
  }
 },
 "nbformat": 4,
 "nbformat_minor": 2
}
