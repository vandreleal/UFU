{
 "cells": [
  {
   "cell_type": "code",
   "execution_count": 1,
   "metadata": {},
   "outputs": [],
   "source": [
    "from collections import defaultdict\n",
    "import matplotlib.pyplot as plt\n",
    "import networkx as nx\n",
    "import numpy as np"
   ]
  },
  {
   "cell_type": "code",
   "execution_count": 2,
   "metadata": {},
   "outputs": [],
   "source": [
    "G = nx.Graph()\n",
    "G.add_weighted_edges_from([\n",
    "    ('A', 'B', 4),\n",
    "    ('A', 'C', 5),\n",
    "    ('B', 'C', 3),\n",
    "    ('B', 'D', 4),\n",
    "    ('C', 'D', 2)\n",
    "])"
   ]
  },
  {
   "cell_type": "code",
   "execution_count": 3,
   "metadata": {},
   "outputs": [
    {
     "data": {
      "image/png": "[encoded data removed]",
      "text/plain": [
       "<Figure size 432x288 with 1 Axes>"
      ]
     },
     "metadata": {},
     "output_type": "display_data"
    }
   ],
   "source": [
    "nx.draw(G, with_labels=True, node_size=1500, node_color='y', alpha=1, arrows=True)"
   ]
  },
  {
   "cell_type": "code",
   "execution_count": 4,
   "metadata": {},
   "outputs": [],
   "source": [
    "def floyd_warshall(G, weight='weight', verbose=False):\n",
    "    dist = defaultdict(lambda: defaultdict(lambda: float('inf')))\n",
    "    \n",
    "    for u in G:\n",
    "        dist[u][u] = 0\n",
    "        \n",
    "    pred = defaultdict(dict)\n",
    "    \n",
    "    # initialize path distance dictionary to be the adjacency matrix\n",
    "    # also set the distance to self to 0 (zero diagonal)\n",
    "    undirected = not G.is_directed()\n",
    "    \n",
    "    for u, v, d in G.edges(data=True):\n",
    "        e_weight = d.get(weight, 1.0)\n",
    "        dist[u][v] = min(e_weight, dist[u][v])\n",
    "        pred[u][v] = u\n",
    "        if undirected:\n",
    "            dist[v][u] = min(e_weight, dist[v][u])\n",
    "            pred[v][u] = v\n",
    "            \n",
    "    for w in G:\n",
    "        for u in G:\n",
    "            for v in G:\n",
    "                if dist[u][v] > dist[u][w] + dist[w][v]:\n",
    "                    dist[u][v] = dist[u][w] + dist[w][v]\n",
    "                    pred[u][v] = pred[w][v]\n",
    "                    \n",
    "    return dict(pred), dict(dist)"
   ]
  },
  {
   "cell_type": "code",
   "execution_count": 5,
   "metadata": {},
   "outputs": [],
   "source": [
    "def floyd_warshall_numpy(G, nodelist=None, weight='weight'):\n",
    "    # To handle cases when an edge has weight=0, we must make sure that\n",
    "    # nonedges are not given the value 0 as well.\n",
    "    A = nx.to_numpy_matrix(G, nodelist=nodelist, multigraph_weight=min,\n",
    "                           weight=weight, nonedge=np.inf)\n",
    "    n, m = A.shape\n",
    "    I = np.identity(n)\n",
    "    A[I == 1] = 0  # diagonal elements should be zero\n",
    "    \n",
    "    for i in range(n):\n",
    "        A = np.minimum(A, A[i, :] + A[:, i])\n",
    "        \n",
    "    return A"
   ]
  },
  {
   "cell_type": "code",
   "execution_count": 6,
   "metadata": {},
   "outputs": [],
   "source": [
    "def reconstruct_path(source, target, predecessors):\n",
    "    if source == target:\n",
    "        return []\n",
    "    \n",
    "    prev = predecessors[source]\n",
    "    curr = prev[target]\n",
    "    path = [target, curr]\n",
    "    \n",
    "    while curr != source:\n",
    "        curr = prev[curr]\n",
    "        path.append(curr)\n",
    "        \n",
    "    return list(reversed(path))"
   ]
  },
  {
   "cell_type": "code",
   "execution_count": 7,
   "metadata": {
    "scrolled": false
   },
   "outputs": [
    {
     "name": "stdout",
     "output_type": "stream",
     "text": [
      "Path: ['A', 'C', 'D']\n",
      "=========================\n",
      "[[0. 4. 5. 7.]\n",
      " [4. 0. 3. 4.]\n",
      " [5. 3. 0. 2.]\n",
      " [7. 4. 2. 0.]]\n"
     ]
    }
   ],
   "source": [
    "predecessors, distances = floyd_warshall(G)\n",
    "path = reconstruct_path('A', 'D', predecessors)\n",
    "matrix = floyd_warshall_numpy(G)\n",
    "\n",
    "print(\"Path:\", path)\n",
    "print(\"=========================\")\n",
    "print(matrix)"
   ]
  }
 ],
 "metadata": {
  "kernelspec": {
   "display_name": "Python 3",
   "language": "python",
   "name": "python3"
  },
  "language_info": {
   "codemirror_mode": {
    "name": "ipython",
    "version": 3
   },
   "file_extension": ".py",
   "mimetype": "text/x-python",
   "name": "python",
   "nbconvert_exporter": "python",
   "pygments_lexer": "ipython3",
   "version": "3.6.5"
  }
 },
 "nbformat": 4,
 "nbformat_minor": 2
}
