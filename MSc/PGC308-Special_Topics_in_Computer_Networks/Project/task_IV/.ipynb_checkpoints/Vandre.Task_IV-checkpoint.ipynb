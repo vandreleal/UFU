{
 "cells": [
  {
   "cell_type": "code",
   "execution_count": 1,
   "metadata": {
    "collapsed": true
   },
   "outputs": [],
   "source": [
    "# Task IV - Reduce the Number of Device Statistics to Estimate the\n",
    "# Service Metric\n",
    "import pandas as pd\n",
    "import numpy as np\n",
    "import sklearn.svm as svm\n",
    "import matplotlib.pyplot as plt\n",
    "import matplotlib.patches as mpatches\n",
    "from sklearn import datasets, linear_model, preprocessing\n",
    "from sklearn.model_selection import train_test_split\n",
    "from sklearn.metrics import mean_absolute_error\n",
    "from pandas_ml import ConfusionMatrix\n",
    "from scipy.stats.stats import pearsonr\n",
    "from scipy import stats\n",
    "from tabulate import tabulate"
   ]
  },
  {
   "cell_type": "code",
   "execution_count": 2,
   "metadata": {
    "collapsed": true
   },
   "outputs": [],
   "source": [
    "plt.rcParams['figure.figsize'] = (12.0, 4.0)\n",
    "X = pd.read_csv('../data/X.csv')\n",
    "Y = pd.read_csv('../data/Y.csv')"
   ]
  },
  {
   "cell_type": "code",
   "execution_count": 3,
   "metadata": {
    "collapsed": true
   },
   "outputs": [],
   "source": [
    "def nmae(y_test, y_pred):\n",
    "    y_test = pd.DataFrame(y_test)\n",
    "    y_pred = pd.DataFrame(y_pred)\n",
    "    \n",
    "    sum = 0.0\n",
    "    m = len(y_test)\n",
    "    average = np.mean(y_test)\n",
    "    \n",
    "    for i in range(m):\n",
    "        sum += abs(y_test.iloc[i, 0] - y_pred.iloc[i, 0])\n",
    "        i += 1\n",
    "        \n",
    "    nmae = (sum / m) / average\n",
    "    return float(nmae)"
   ]
  },
  {
   "cell_type": "code",
   "execution_count": 4,
   "metadata": {
    "collapsed": true
   },
   "outputs": [],
   "source": [
    "# 1. Construct a training set and a test set from the trace as above.\n",
    "X = X.iloc[:, X.columns != 'TimeStamp']\n",
    "Y = Y.iloc[:, Y.columns != 'TimeStamp']\n",
    "\n",
    "X_train, X_test, y_train, y_test = train_test_split(X, Y, train_size=0.7, test_size=0.3)\n",
    "lm = linear_model.LinearRegression()"
   ]
  },
  {
   "cell_type": "code",
   "execution_count": 5,
   "metadata": {},
   "outputs": [
    {
     "name": "stdout",
     "output_type": "stream",
     "text": [
      "Features                      NMAE (asc)\n",
      "--------------------------  ------------\n",
      "'file.nr', 'ldavg.1'            0.105658\n",
      "'ldavg.1', 'tcpsck'             0.108191\n",
      "'all_..idle', 'ldavg.1'         0.108193\n",
      "'ldavg.1', 'pgfree.s'           0.108509\n",
      "'X..memused', 'ldavg.1'         0.10948\n",
      "'sum_intr.s', 'ldavg.1'         0.109531\n",
      "'cswch.s', 'ldavg.1'            0.109538\n",
      "'proc.s', 'ldavg.1'             0.109543\n",
      "'ldavg.1'                       0.109547\n",
      "'cswch.s', 'file.nr'            0.115764\n",
      "'file.nr', 'tcpsck'             0.116161\n",
      "'cswch.s', 'tcpsck'             0.120955\n",
      "'sum_intr.s', 'tcpsck'          0.121007\n",
      "'file.nr', 'sum_intr.s'         0.123745\n",
      "'all_..idle', 'file.nr'         0.125789\n",
      "'X..memused', 'file.nr'         0.127371\n",
      "'proc.s', 'file.nr'             0.127467\n",
      "'file.nr'                       0.127524\n",
      "'file.nr', 'pgfree.s'           0.127542\n",
      "'tcpsck', 'pgfree.s'            0.128314\n",
      "'tcpsck'                        0.128458\n",
      "'proc.s', 'tcpsck'              0.128471\n",
      "'all_..idle', 'tcpsck'          0.128492\n",
      "'X..memused', 'tcpsck'          0.128603\n",
      "'all_..idle', 'cswch.s'         0.13021\n",
      "'X..memused', 'cswch.s'         0.1406\n",
      "'proc.s', 'cswch.s'             0.143223\n",
      "'cswch.s', 'pgfree.s'           0.143327\n",
      "'cswch.s'                       0.143469\n",
      "'cswch.s', 'sum_intr.s'         0.14413\n",
      "'X..memused', 'sum_intr.s'      0.172438\n",
      "'all_..idle', 'X..memused'      0.17304\n",
      "'all_..idle', 'sum_intr.s'      0.182355\n",
      "'X..memused', 'proc.s'          0.187354\n",
      "'X..memused', 'pgfree.s'        0.188209\n",
      "'X..memused'                    0.189578\n",
      "'all_..idle', 'proc.s'          0.200141\n",
      "'all_..idle'                    0.202505\n",
      "'all_..idle', 'pgfree.s'        0.202943\n",
      "'proc.s', 'sum_intr.s'          0.203547\n",
      "'sum_intr.s', 'pgfree.s'        0.203942\n",
      "'sum_intr.s'                    0.208025\n",
      "'proc.s'                        0.249386\n",
      "'proc.s', 'pgfree.s'            0.249657\n",
      "'pgfree.s'                      0.26007\n"
     ]
    }
   ],
   "source": [
    "# 2. Method 1: Build all subsets of the feature set X that contain\n",
    "# either one or two features (i.e., device statistics). Compute the\n",
    "# models for each of these sets for linear regression over the\n",
    "# training set.\n",
    "    \n",
    "NMAEs = []\n",
    "\n",
    "for i in range(len(X.columns)):\n",
    "    for j in range(len(X.columns)):\n",
    "        if(i == j):\n",
    "            features = [X_train.columns[i]]\n",
    "            X_train_subset = pd.DataFrame(X_train, columns=features)\n",
    "            X_test_subset = pd.DataFrame(X_test, columns=features)\n",
    "    \n",
    "            model = lm.fit(X_train_subset, y_train)\n",
    "            y_pred = lm.predict(X_test_subset)\n",
    "            \n",
    "            features_list = str(features).strip('[]')\n",
    "            subset_nmae = nmae(y_test, y_pred)\n",
    "            \n",
    "            NMAEs.append((features_list, subset_nmae))\n",
    "            \n",
    "        elif (j > i):\n",
    "            features = [X_train.columns[i], X_train.columns[j]]  \n",
    "            X_train_subset = pd.DataFrame(X_train, columns=features)\n",
    "            X_test_subset = pd.DataFrame(X_test, columns=features)\n",
    "    \n",
    "            model = lm.fit(X_train_subset, y_train)\n",
    "            y_pred = lm.predict(X_test_subset)\n",
    "            \n",
    "            features_list = str(features).strip('[]')\n",
    "            subset_nmae = nmae(y_test, y_pred)\n",
    "            \n",
    "            NMAEs.append((features_list, subset_nmae))\n",
    "\n",
    "# Sort array by NMAE value (asc)\n",
    "sorted_NMAEs = sorted(NMAEs, key=lambda nmae: nmae[1])\n",
    "\n",
    "print tabulate(sorted_NMAEs, headers=['Features', 'NMAE (asc)'])"
   ]
  },
  {
   "cell_type": "code",
   "execution_count": 6,
   "metadata": {},
   "outputs": [
    {
     "data": {
      "image/png": "[encoded data removed]",
      "text/plain": [
       "<matplotlib.figure.Figure at 0x10804e810>"
      ]
     },
     "metadata": {},
     "output_type": "display_data"
    }
   ],
   "source": [
    "# Plot a histogram of the error values (NMAE) of all the models\n",
    "# for the test set.\n",
    "\n",
    "df = pd.DataFrame()\n",
    "for i in range(len(NMAEs)):\n",
    "    data = pd.DataFrame({'NMAE': NMAEs[i][1]}, index=[i])\n",
    "    df = df.append(data)\n",
    "\n",
    "hist = df.plot.hist(title = 'Histogram of error values (NMAE)')\n",
    "hist.set_xlabel(\"NMAE\")\n",
    "fig = hist.get_figure()\n",
    "plt.show()"
   ]
  },
  {
   "cell_type": "code",
   "execution_count": 7,
   "metadata": {
    "collapsed": true
   },
   "outputs": [],
   "source": [
    "# Identify the feature set that produces the model with the\n",
    "# smallest error and give the device statistic(s) in this set.\n",
    "\n",
    "# The feature set that produces the model with the smallest error\n",
    "# is ['file.nr', 'ldavg.1']. The feature 'ldavg.1' is the one that\n",
    "# contributes the most to obtaining smallest errors since all\n",
    "# combinations of features with 'ldavg.1' produces NMAE values\n",
    "# around 0.11."
   ]
  },
  {
   "cell_type": "code",
   "execution_count": 8,
   "metadata": {
    "collapsed": true
   },
   "outputs": [],
   "source": [
    "# 3. Method 2: Linear univariate feature selection. Take each feature\n",
    "# of X and compute the sample correlation of the feature with the\n",
    "# corresponding Y value over the training set. The correlation values\n",
    "# fall into the interval [−1, +1]."
   ]
  },
  {
   "cell_type": "code",
   "execution_count": 9,
   "metadata": {},
   "outputs": [
    {
     "name": "stdout",
     "output_type": "stream",
     "text": [
      "Feature       r_value    r_squared\n",
      "----------  ---------  -----------\n",
      "all_..idle   0.568078   0.322713\n",
      "X..memused   0.587781   0.345487\n",
      "proc.s      -0.227161   0.051602\n",
      "cswch.s     -0.75792    0.574442\n",
      "file.nr     -0.787973   0.620902\n",
      "sum_intr.s   0.511326   0.261454\n",
      "ldavg.1     -0.841085   0.707425\n",
      "tcpsck      -0.804682   0.647514\n",
      "pgfree.s     0.014986   0.00022458\n"
     ]
    }
   ],
   "source": [
    "SAMPLES = []\n",
    "\n",
    "for i in range(len(X.columns)):\n",
    "    features = X.columns[i]\n",
    "    X_subset = pd.DataFrame(X_train, columns=[features])\n",
    "    Y_subset = pd.DataFrame(y_train)\n",
    "    \n",
    "    r_value = float(pearsonr(X_subset, Y_subset)[0])\n",
    "    r_squared = float(r_value**2)\n",
    "    \n",
    "    SAMPLES.append((features, r_value, r_squared))\n",
    "\n",
    "print tabulate(SAMPLES, headers=['Feature', 'r_value', 'r_squared'])"
   ]
  },
  {
   "cell_type": "code",
   "execution_count": 10,
   "metadata": {},
   "outputs": [
    {
     "name": "stdout",
     "output_type": "stream",
     "text": [
      "Feature       r_value    r_squared\n",
      "----------  ---------  -----------\n",
      "ldavg.1     -0.841085   0.707425\n",
      "tcpsck      -0.804682   0.647514\n",
      "file.nr     -0.787973   0.620902\n",
      "cswch.s     -0.75792    0.574442\n",
      "X..memused   0.587781   0.345487\n",
      "all_..idle   0.568078   0.322713\n",
      "sum_intr.s   0.511326   0.261454\n",
      "proc.s      -0.227161   0.051602\n",
      "pgfree.s     0.014986   0.00022458\n"
     ]
    }
   ],
   "source": [
    "# Rank the features according to the square of the correlation values;\n",
    "# the top feature has the highest value. Build nine feature sets composed\n",
    "# of the top k features, k = 1..9. Compute the model for each of these\n",
    "# nine sets for linear regression over the training set and compute the\n",
    "# error (NMAE) of these models over the test set. Produce a plot that\n",
    "# shows the error value in function of the set k.\n",
    "\n",
    "# Sort samples by r_squared value (desc)\n",
    "sorted_samples = sorted(SAMPLES, key=lambda sample: sample[2], reverse=True)\n",
    "\n",
    "print tabulate(sorted_samples, headers=['Feature', 'r_value', 'r_squared'])"
   ]
  },
  {
   "cell_type": "code",
   "execution_count": 11,
   "metadata": {},
   "outputs": [
    {
     "name": "stdout",
     "output_type": "stream",
     "text": [
      "Set          NMAE  Features\n",
      "-------  --------  --------------------------------------------------------------\n",
      "K[1]     0.109547  'ldavg.1'\n",
      "K[1..2]  0.108191  'ldavg.1', 'tcpsck'\n",
      "K[1..3]  0.105142  'ldavg.1', 'tcpsck', 'file.nr'\n",
      "K[1..4]  0.105138  'ldavg.1', 'tcpsck', 'file.nr', 'cswch.s'\n",
      "K[1..5]  0.104516  'ldavg.1', 'tcpsck', 'file.nr', 'cswch.s', 'X..memused'\n",
      "K[1..6]  0.102304  'ldavg.1', 'tcpsck', 'file.nr', 'cswch.s', 'X..memused', 'al..\n",
      "K[1..7]  0.102361  'ldavg.1', 'tcpsck', 'file.nr', 'cswch.s', 'X..memused', 'al..\n",
      "K[1..8]  0.102364  'ldavg.1', 'tcpsck', 'file.nr', 'cswch.s', 'X..memused', 'al..\n",
      "K[1..9]  0.100632  'ldavg.1', 'tcpsck', 'file.nr', 'cswch.s', 'X..memused', 'al..\n"
     ]
    }
   ],
   "source": [
    "RANK_NMAEs = []\n",
    "\n",
    "for i in range(len(sorted_samples)):\n",
    "    samples_subset = sorted_samples[:(i+1)]\n",
    "    \n",
    "    k_features = []\n",
    "    for j in range(len(samples_subset)):\n",
    "        k_features.insert(j, samples_subset[j][0])\n",
    "    \n",
    "    X_train_subset = pd.DataFrame(X_train, columns=k_features)\n",
    "    X_test_subset = pd.DataFrame(X_test, columns=k_features)\n",
    "    \n",
    "    model = lm.fit(X_train_subset, y_train)\n",
    "    y_pred = lm.predict(X_test_subset)\n",
    "            \n",
    "    set_name = 'K[1..' + str(i+1) + ']' if (i > 0) else 'K[1]'\n",
    "    subset_nmae = nmae(y_test, y_pred)\n",
    "    \n",
    "    ks = str(k_features).strip('[]')\n",
    "    k_features = ks = (ks[:60] + '..') if len(ks) > 60 else ks\n",
    "    \n",
    "    RANK_NMAEs.append((set_name, subset_nmae, k_features))\n",
    "    \n",
    "print tabulate(RANK_NMAEs, headers=['Set', 'NMAE', 'Features'])"
   ]
  },
  {
   "cell_type": "code",
   "execution_count": 12,
   "metadata": {},
   "outputs": [
    {
     "data": {
      "image/png": "[encoded data removed]",
      "text/plain": [
       "<matplotlib.figure.Figure at 0x108058f50>"
      ]
     },
     "metadata": {},
     "output_type": "display_data"
    }
   ],
   "source": [
    "labels = []\n",
    "df = pd.DataFrame()\n",
    "\n",
    "for i in range(len(RANK_NMAEs)):\n",
    "    data = pd.DataFrame({'NMAE': RANK_NMAEs[i][1]}, index=[i])\n",
    "    labels.append(RANK_NMAEs[i][0])\n",
    "    df = df.append(data)\n",
    "\n",
    "series = df.plot(title = 'Histogram of error values (NMAE) in function of the set K')\n",
    "series.set_xlabel(\"NMAE\")\n",
    "series.set_xticklabels(labels)\n",
    "fig = series.get_figure()\n",
    "plt.show()"
   ]
  },
  {
   "cell_type": "code",
   "execution_count": 13,
   "metadata": {
    "collapsed": true
   },
   "outputs": [],
   "source": [
    "# 4. Describe your observations and conclusions.\n",
    "\n",
    "# The feature that has the lowest NMAE value within the set of device statistics\n",
    "# X is 'ldavg.1', meaning that is also the most important one to accurately\n",
    "# predict the value of Y due to its highest degree of accuracy when compared\n",
    "# to all others. The second method proves how little other features impact\n",
    "# when they're used along 'ldavg.1' during the regression computation.\n",
    "# The difference between K[1] and K[1..9] is lower than than 0.01."
   ]
  }
 ],
 "metadata": {
  "kernelspec": {
   "display_name": "Python 2",
   "language": "python",
   "name": "python2"
  },
  "language_info": {
   "codemirror_mode": {
    "name": "ipython",
    "version": 2
   },
   "file_extension": ".py",
   "mimetype": "text/x-python",
   "name": "python",
   "nbconvert_exporter": "python",
   "pygments_lexer": "ipython2",
   "version": "2.7.14"
  }
 },
 "nbformat": 4,
 "nbformat_minor": 2
}
