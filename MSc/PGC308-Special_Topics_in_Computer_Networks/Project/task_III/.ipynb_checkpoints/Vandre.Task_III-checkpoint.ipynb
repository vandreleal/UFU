{
 "cells": [
  {
   "cell_type": "code",
   "execution_count": 1,
   "metadata": {
    "collapsed": true
   },
   "outputs": [],
   "source": [
    "# Task III - Estimating SLA Conformance and Violation from Device Statistics\n",
    "import pandas as pd\n",
    "import numpy as np\n",
    "import sklearn.svm as svm\n",
    "import matplotlib.pyplot as plt\n",
    "import matplotlib.patches as mpatches\n",
    "from sklearn import datasets, linear_model, preprocessing\n",
    "from sklearn.model_selection import train_test_split\n",
    "from sklearn.metrics import mean_absolute_error\n",
    "from pandas_ml import ConfusionMatrix"
   ]
  },
  {
   "cell_type": "code",
   "execution_count": 2,
   "metadata": {
    "collapsed": true
   },
   "outputs": [],
   "source": [
    "X = pd.read_csv('../data/X.csv')\n",
    "Y = pd.read_csv('../data/Y.csv')"
   ]
  },
  {
   "cell_type": "code",
   "execution_count": 3,
   "metadata": {
    "collapsed": true
   },
   "outputs": [],
   "source": [
    "# 1. Model Training - use Logistic Regression to train a classifier C\n",
    "# with the training set.\n",
    "X = X.iloc[:, X.columns != 'TimeStamp']\n",
    "Y = Y.iloc[:, Y.columns != 'TimeStamp']\n",
    "\n",
    "X_train, X_test, y_train, y_test = train_test_split(X, Y, train_size=0.7, test_size=0.3)\n",
    "\n",
    "X_train_int = X_train.astype('int')\n",
    "X_test_int = X_test.astype('int')\n",
    "y_train_int = y_train.astype('int')\n",
    "y_test_int = y_test.astype('int')\n",
    "\n",
    "y_train_bool = y_train_int['DispFrames'] >= 18\n",
    "y_test_bool = y_test_int['DispFrames'] >= 18\n",
    "\n",
    "lr = linear_model.LogisticRegression()\n",
    "model = lr.fit(X_train_int, y_train_bool)\n",
    "\n",
    "y_pred = lr.predict(X_test_int)\n",
    "y_true = y_test_bool.values.ravel()"
   ]
  },
  {
   "cell_type": "code",
   "execution_count": 4,
   "metadata": {},
   "outputs": [
    {
     "name": "stdout",
     "output_type": "stream",
     "text": [
      "Coefficients: [[ -7.03388772e-02  -3.93219130e-02   3.66521643e-03  -1.25802942e-05\n",
      "    4.13081999e-03   2.21754981e-04  -8.77979774e-02  -5.80615276e-02\n",
      "   -8.43599033e-06]]\n"
     ]
    }
   ],
   "source": [
    "# Provide the coefficients (Θ0, ..., Θ9) of your model C. (Θ0 is the offset.)\n",
    "print 'Coefficients:', lr.coef_"
   ]
  },
  {
   "cell_type": "code",
   "execution_count": 5,
   "metadata": {},
   "outputs": [
    {
     "name": "stdout",
     "output_type": "stream",
     "text": [
      "Accuracy score: 0.8806\n"
     ]
    }
   ],
   "source": [
    "# (b) Accuracy of Model M - compute the estimation error of M over the test set.\n",
    "# Explained variance score: 1 is perfect prediction\n",
    "print 'Accuracy score: %.4f' % model.score(X_test_int, y_true)"
   ]
  },
  {
   "cell_type": "code",
   "execution_count": 6,
   "metadata": {},
   "outputs": [
    {
     "name": "stdout",
     "output_type": "stream",
     "text": [
      "Confusion Matrix:\n",
      "Predicted  False  True  __all__\n",
      "Actual                         \n",
      "False        455    71      526\n",
      "True          58   496      554\n",
      "__all__      513   567     1080\n",
      "\n",
      "Stats:\n",
      "population: 1080\n",
      "P: 554\n",
      "N: 526\n",
      "PositiveTest: 567\n",
      "NegativeTest: 513\n",
      "TP: 496\n",
      "TN: 455\n",
      "FP: 71\n",
      "FN: 58\n",
      "TPR: 0.895306859206\n",
      "TNR: 0.865019011407\n",
      "PPV: 0.874779541446\n",
      "NPV: 0.88693957115\n",
      "FPR: 0.134980988593\n",
      "FDR: 0.125220458554\n",
      "FNR: 0.104693140794\n",
      "ACC: 0.880555555556\n",
      "F1_score: 0.884924174844\n",
      "MCC: 0.76102217277\n",
      "informedness: 0.760325870613\n",
      "markedness: 0.761719112596\n",
      "prevalence: 0.512962962963\n",
      "LRP: 6.63283673158\n",
      "LRN: 0.121029872654\n",
      "DOR: 54.8033025741\n",
      "FOR: 0.11306042885\n",
      "None \n",
      "\n",
      "Classification Error: 0.1194\n"
     ]
    }
   ],
   "source": [
    "# 2. Accuracy of the Classifiers C - Compute the classification error (ERR) on\n",
    "# the test set for C. For this, you first compute the confusion matrix,\n",
    "# which includes the four numbers True Positives (TP), True Negatives (TN),\n",
    "# False Positives (FN), and False Negatives (FN). We define the classification\n",
    "# error as ERR = 1 − (TP+TN)/m , whereby m is the number of observations in\n",
    "# the test set. A true positive is an m observation that is correctly classified\n",
    "# by the classifier as conforming to the SLA; a true negative is an observation\n",
    "# that is correctly classified by the classifier as violating the SLA.\n",
    "\n",
    "m = len(y_true)\n",
    "cnf_matrix = ConfusionMatrix(y_true, y_pred)\n",
    "\n",
    "print(\"Confusion Matrix:\\n%s\\n\" % cnf_matrix)\n",
    "print \"Stats:\\n\", cnf_matrix.print_stats(), '\\n'\n",
    "\n",
    "cls_error = 1.0 - (float(cnf_matrix.TP + cnf_matrix.TN) / m)\n",
    "print(\"Classification Error: %.4f\" % cls_error)"
   ]
  },
  {
   "cell_type": "code",
   "execution_count": 7,
   "metadata": {
    "scrolled": true
   },
   "outputs": [
    {
     "name": "stdout",
     "output_type": "stream",
     "text": [
      "Confusion Matrix:\n",
      "Predicted  False  True  __all__\n",
      "Actual                         \n",
      "False        237   289      526\n",
      "True         260   294      554\n",
      "__all__      497   583     1080\n",
      "\n",
      "Stats:\n",
      "population: 1080\n",
      "P: 554\n",
      "N: 526\n",
      "PositiveTest: 583\n",
      "NegativeTest: 497\n",
      "TP: 294\n",
      "TN: 237\n",
      "FP: 289\n",
      "FN: 260\n",
      "TPR: 0.530685920578\n",
      "TNR: 0.450570342205\n",
      "PPV: 0.504288164666\n",
      "NPV: 0.476861167002\n",
      "FPR: 0.549429657795\n",
      "FDR: 0.495711835334\n",
      "FNR: 0.469314079422\n",
      "ACC: 0.491666666667\n",
      "F1_score: 0.517150395778\n",
      "MCC: -0.0187971267376\n",
      "informedness: -0.0187437372171\n",
      "markedness: -0.0188506683325\n",
      "prevalence: 0.512962962963\n",
      "LRP: 0.965885101121\n",
      "LRN: 1.04160002437\n",
      "DOR: 0.927309023157\n",
      "FOR: 0.523138832998\n",
      "None \n",
      "\n",
      "Classification Error: 0.5083\n"
     ]
    }
   ],
   "source": [
    "# 3. As a baseline for C, use a naive method which relies on Y values only,\n",
    "# as follows. For each x ∈ X, the naive classifier predicts a value True with\n",
    "# probability p and False with probability 1 − p. p is the fraction of Y values\n",
    "# that conform with the SLA. Compute p over the training set and the\n",
    "# classification error for the naive classifier over the test set.\n",
    "\n",
    "m = len(y_true)\n",
    "p = float(np.sum(y_train_int >= 18)) / len(y_train_int)\n",
    "\n",
    "naive = np.random.choice([True, False], size=(m), p=[p, (1-p)])\n",
    "cnf_matrix = ConfusionMatrix(y_true, naive)\n",
    "\n",
    "print(\"Confusion Matrix:\\n%s\\n\" % cnf_matrix)\n",
    "print \"Stats:\\n\", cnf_matrix.print_stats(), '\\n'\n",
    "\n",
    "cls_error = 1.0 - (float(cnf_matrix.TP + cnf_matrix.TN) / m)\n",
    "print(\"Classification Error: %.4f\" % cls_error)"
   ]
  },
  {
   "cell_type": "code",
   "execution_count": 8,
   "metadata": {},
   "outputs": [
    {
     "name": "stdout",
     "output_type": "stream",
     "text": [
      "Confusion Matrix:\n",
      "Predicted  False  True  __all__\n",
      "Actual                         \n",
      "False        442    84      526\n",
      "True          44   510      554\n",
      "__all__      486   594     1080\n",
      "\n",
      "Stats:\n",
      "population: 1080\n",
      "P: 554\n",
      "N: 526\n",
      "PositiveTest: 594\n",
      "NegativeTest: 486\n",
      "TP: 510\n",
      "TN: 442\n",
      "FP: 84\n",
      "FN: 44\n",
      "TPR: 0.920577617329\n",
      "TNR: 0.84030418251\n",
      "PPV: 0.858585858586\n",
      "NPV: 0.909465020576\n",
      "FPR: 0.15969581749\n",
      "FDR: 0.141414141414\n",
      "FNR: 0.0794223826715\n",
      "ACC: 0.881481481481\n",
      "F1_score: 0.88850174216\n",
      "MCC: 0.764457935601\n",
      "informedness: 0.760881799838\n",
      "markedness: 0.768050879162\n",
      "prevalence: 0.512962962963\n",
      "LRP: 5.76456936565\n",
      "LRN: 0.094516229152\n",
      "DOR: 60.9902597403\n",
      "FOR: 0.0905349794239\n",
      "None \n",
      "\n",
      "Classification Error: 0.1185\n"
     ]
    }
   ],
   "source": [
    "# 4. Build a new classifier by extending the linear regression function\n",
    "# developed in Task II with a check on the output, i.e., the Video Frame Rate.\n",
    "# If the frame rate for a given X is above the SLA threshold, then the Y label\n",
    "# of the classifier is set to conformance, otherwise to violation. Compute the\n",
    "# new classifier over the training set and the classification error for this\n",
    "# new classifier over the test set.\n",
    "\n",
    "lm = linear_model.LinearRegression()\n",
    "model = lm.fit(X_train, y_train.DispFrames)\n",
    "y_pred = lm.predict(X_test)\n",
    "\n",
    "cnf_matrix = ConfusionMatrix(y_true, y_pred >= 18)\n",
    "\n",
    "print(\"Confusion Matrix:\\n%s\\n\" % cnf_matrix)\n",
    "print \"Stats:\\n\", cnf_matrix.print_stats(), '\\n'\n",
    "\n",
    "cls_error = 1.0 - (float(cnf_matrix.TP + cnf_matrix.TN) / m)\n",
    "print(\"Classification Error: %.4f\" % cls_error)"
   ]
  },
  {
   "cell_type": "code",
   "execution_count": 9,
   "metadata": {
    "collapsed": true
   },
   "outputs": [],
   "source": [
    "# 5. Formulate your observations and conclusions based on the above work.\n",
    "\n",
    "# Both the logistic and linear classifiers produced close results and\n",
    "# similar classification errors around 0.12, whereas the naive classifier\n",
    "# did a poor job at predicting and had a classification error around 0.5."
   ]
  }
 ],
 "metadata": {
  "kernelspec": {
   "display_name": "Python 2",
   "language": "python",
   "name": "python2"
  },
  "language_info": {
   "codemirror_mode": {
    "name": "ipython",
    "version": 2
   },
   "file_extension": ".py",
   "mimetype": "text/x-python",
   "name": "python",
   "nbconvert_exporter": "python",
   "pygments_lexer": "ipython2",
   "version": "2.7.14"
  }
 },
 "nbformat": 4,
 "nbformat_minor": 2
}
